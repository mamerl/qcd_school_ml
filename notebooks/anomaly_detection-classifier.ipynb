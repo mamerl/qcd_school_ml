{
 "cells": [
  {
   "cell_type": "code",
   "execution_count": 1,
   "id": "dd0e5bfd-66e6-44bb-9ff2-fb826606fc95",
   "metadata": {
    "scrolled": true,
    "tags": []
   },
   "outputs": [
    {
     "name": "stdout",
     "output_type": "stream",
     "text": [
      "['root://eospublic.cern.ch//eos/opendata/cms/mc/RunIISummer20UL16NanoAODv9/QCD_Pt-15to7000_TuneCP5_Flat2018_13TeV_pythia8/NANOAODSIM/106X_mcRun2_asymptotic_v17-v1/130000/1C569D85-60AE-7D43-B42B-6D6FD1D66CC7.root'\n",
      " 'root://eospublic.cern.ch//eos/opendata/cms/mc/RunIISummer20UL16NanoAODv9/QCD_Pt-15to7000_TuneCP5_Flat2018_13TeV_pythia8/NANOAODSIM/106X_mcRun2_asymptotic_v17-v1/130000/2EDCC683-1B4B-614B-BEB7-D80BBC20AD8E.root'\n",
      " 'root://eospublic.cern.ch//eos/opendata/cms/mc/RunIISummer20UL16NanoAODv9/QCD_Pt-15to7000_TuneCP5_Flat2018_13TeV_pythia8/NANOAODSIM/106X_mcRun2_asymptotic_v17-v1/270000/19E8D842-3175-1449-AF6C-FD9C69D12724.root'\n",
      " 'root://eospublic.cern.ch//eos/opendata/cms/mc/RunIISummer20UL16NanoAODv9/QCD_Pt-15to7000_TuneCP5_Flat2018_13TeV_pythia8/NANOAODSIM/106X_mcRun2_asymptotic_v17-v1/270000/3957434B-7E09-3B4C-8329-FD44D82C7DB7.root'\n",
      " 'root://eospublic.cern.ch//eos/opendata/cms/mc/RunIISummer20UL16NanoAODv9/QCD_Pt-15to7000_TuneCP5_Flat2018_13TeV_pythia8/NANOAODSIM/106X_mcRun2_asymptotic_v17-v1/270000/397D1673-167A-CF46-9E79-D7069D9AC359.root'\n",
      " 'root://eospublic.cern.ch//eos/opendata/cms/mc/RunIISummer20UL16NanoAODv9/QCD_Pt-15to7000_TuneCP5_Flat2018_13TeV_pythia8/NANOAODSIM/106X_mcRun2_asymptotic_v17-v1/270000/52EE209E-3CB4-3D4F-9564-531DB7409165.root'\n",
      " 'root://eospublic.cern.ch//eos/opendata/cms/mc/RunIISummer20UL16NanoAODv9/QCD_Pt-15to7000_TuneCP5_Flat2018_13TeV_pythia8/NANOAODSIM/106X_mcRun2_asymptotic_v17-v1/270000/8A52F254-16F0-674E-9616-3006F7F39D81.root'\n",
      " 'root://eospublic.cern.ch//eos/opendata/cms/mc/RunIISummer20UL16NanoAODv9/QCD_Pt-15to7000_TuneCP5_Flat2018_13TeV_pythia8/NANOAODSIM/106X_mcRun2_asymptotic_v17-v1/270000/AECD4750-69A3-DB47-B573-A4500E55D882.root'\n",
      " 'root://eospublic.cern.ch//eos/opendata/cms/mc/RunIISummer20UL16NanoAODv9/QCD_Pt-15to7000_TuneCP5_Flat2018_13TeV_pythia8/NANOAODSIM/106X_mcRun2_asymptotic_v17-v1/270000/DDE8E8AB-4E56-704A-9D68-29CE8AE82FF3.root'\n",
      " 'root://eospublic.cern.ch//eos/opendata/cms/mc/RunIISummer20UL16NanoAODv9/QCD_Pt-15to7000_TuneCP5_Flat2018_13TeV_pythia8/NANOAODSIM/106X_mcRun2_asymptotic_v17-v1/280000/0E28C961-58A5-994B-B580-F09D129EB416.root'\n",
      " 'root://eospublic.cern.ch//eos/opendata/cms/mc/RunIISummer20UL16NanoAODv9/QCD_Pt-15to7000_TuneCP5_Flat2018_13TeV_pythia8/NANOAODSIM/106X_mcRun2_asymptotic_v17-v1/280000/0F04A6E6-1939-A94E-A5F4-4F89917EC014.root'\n",
      " 'root://eospublic.cern.ch//eos/opendata/cms/mc/RunIISummer20UL16NanoAODv9/QCD_Pt-15to7000_TuneCP5_Flat2018_13TeV_pythia8/NANOAODSIM/106X_mcRun2_asymptotic_v17-v1/280000/175A5DD9-13A2-144B-AE64-4AE7C27CADD3.root'\n",
      " 'root://eospublic.cern.ch//eos/opendata/cms/mc/RunIISummer20UL16NanoAODv9/QCD_Pt-15to7000_TuneCP5_Flat2018_13TeV_pythia8/NANOAODSIM/106X_mcRun2_asymptotic_v17-v1/280000/243023B4-EA5E-8F4B-9ED6-10A813A89A6F.root'\n",
      " 'root://eospublic.cern.ch//eos/opendata/cms/mc/RunIISummer20UL16NanoAODv9/QCD_Pt-15to7000_TuneCP5_Flat2018_13TeV_pythia8/NANOAODSIM/106X_mcRun2_asymptotic_v17-v1/280000/321D4D40-7868-6542-8F2F-10816EFC2973.root'\n",
      " 'root://eospublic.cern.ch//eos/opendata/cms/mc/RunIISummer20UL16NanoAODv9/QCD_Pt-15to7000_TuneCP5_Flat2018_13TeV_pythia8/NANOAODSIM/106X_mcRun2_asymptotic_v17-v1/280000/46DF71C3-2523-3B40-A688-976DE229A9C1.root'\n",
      " 'root://eospublic.cern.ch//eos/opendata/cms/mc/RunIISummer20UL16NanoAODv9/QCD_Pt-15to7000_TuneCP5_Flat2018_13TeV_pythia8/NANOAODSIM/106X_mcRun2_asymptotic_v17-v1/280000/5C25FB94-67C3-364B-9E90-BDA250D6ED93.root'\n",
      " 'root://eospublic.cern.ch//eos/opendata/cms/mc/RunIISummer20UL16NanoAODv9/QCD_Pt-15to7000_TuneCP5_Flat2018_13TeV_pythia8/NANOAODSIM/106X_mcRun2_asymptotic_v17-v1/280000/5FF8D866-2808-0E47-BE82-9536953DF53D.root'\n",
      " 'root://eospublic.cern.ch//eos/opendata/cms/mc/RunIISummer20UL16NanoAODv9/QCD_Pt-15to7000_TuneCP5_Flat2018_13TeV_pythia8/NANOAODSIM/106X_mcRun2_asymptotic_v17-v1/280000/68EAF4D1-6A01-D546-AFC0-DB6C38512576.root'\n",
      " 'root://eospublic.cern.ch//eos/opendata/cms/mc/RunIISummer20UL16NanoAODv9/QCD_Pt-15to7000_TuneCP5_Flat2018_13TeV_pythia8/NANOAODSIM/106X_mcRun2_asymptotic_v17-v1/280000/6EA41120-0013-0A48-AE9D-965B9B8291CF.root'\n",
      " 'root://eospublic.cern.ch//eos/opendata/cms/mc/RunIISummer20UL16NanoAODv9/QCD_Pt-15to7000_TuneCP5_Flat2018_13TeV_pythia8/NANOAODSIM/106X_mcRun2_asymptotic_v17-v1/280000/7610A6D1-B8E2-F54C-AE0F-D4406084077D.root'\n",
      " 'root://eospublic.cern.ch//eos/opendata/cms/mc/RunIISummer20UL16NanoAODv9/QCD_Pt-15to7000_TuneCP5_Flat2018_13TeV_pythia8/NANOAODSIM/106X_mcRun2_asymptotic_v17-v1/280000/7F142AC6-39F2-2F4F-9F97-C425A1C99A35.root'\n",
      " 'root://eospublic.cern.ch//eos/opendata/cms/mc/RunIISummer20UL16NanoAODv9/QCD_Pt-15to7000_TuneCP5_Flat2018_13TeV_pythia8/NANOAODSIM/106X_mcRun2_asymptotic_v17-v1/280000/85CB98E1-D675-984E-BA09-DD7C95483ADF.root'\n",
      " 'root://eospublic.cern.ch//eos/opendata/cms/mc/RunIISummer20UL16NanoAODv9/QCD_Pt-15to7000_TuneCP5_Flat2018_13TeV_pythia8/NANOAODSIM/106X_mcRun2_asymptotic_v17-v1/280000/9859C258-06DB-C443-99D0-A1849B59C5CD.root'\n",
      " 'root://eospublic.cern.ch//eos/opendata/cms/mc/RunIISummer20UL16NanoAODv9/QCD_Pt-15to7000_TuneCP5_Flat2018_13TeV_pythia8/NANOAODSIM/106X_mcRun2_asymptotic_v17-v1/280000/C3F117F4-5211-0241-A129-8E979D7F281C.root'\n",
      " 'root://eospublic.cern.ch//eos/opendata/cms/mc/RunIISummer20UL16NanoAODv9/QCD_Pt-15to7000_TuneCP5_Flat2018_13TeV_pythia8/NANOAODSIM/106X_mcRun2_asymptotic_v17-v1/280000/FCF7CA28-D3D5-6B4F-81D9-B12D55E0E4AD.root'\n",
      " 'root://eospublic.cern.ch//eos/opendata/cms/mc/RunIISummer20UL16NanoAODv9/QCD_Pt-15to7000_TuneCP5_Flat2018_13TeV_pythia8/NANOAODSIM/106X_mcRun2_asymptotic_v17-v1/70000/50C501A4-6495-484B-8C0C-195BB030B6E8.root'\n",
      " 'root://eospublic.cern.ch//eos/opendata/cms/mc/RunIISummer20UL16NanoAODv9/QCD_Pt-15to7000_TuneCP5_Flat2018_13TeV_pythia8/NANOAODSIM/106X_mcRun2_asymptotic_v17-v1/70000/FECACF35-921D-A147-9E03-B81EC03485C5.root']\n",
      "['root://eospublic.cern.ch//eos/opendata/cms/mc/RunIISummer20UL16NanoAODv9/BulkGravToWWToWhadWhad_narrow_M-2000_TuneCP5_13TeV-madgraph-pythia/NANOAODSIM/106X_mcRun2_asymptotic_v17-v2/130000/9AB2D56B-22D4-AF45-A7D2-936193FCD361.root'\n",
      " 'root://eospublic.cern.ch//eos/opendata/cms/mc/RunIISummer20UL16NanoAODv9/BulkGravToWWToWhadWhad_narrow_M-2000_TuneCP5_13TeV-madgraph-pythia/NANOAODSIM/106X_mcRun2_asymptotic_v17-v2/130000/FBE90691-38E8-FE4B-AB57-BC29D360ECDC.root'\n",
      " 'root://eospublic.cern.ch//eos/opendata/cms/mc/RunIISummer20UL16NanoAODv9/BulkGravToWWToWhadWhad_narrow_M-2000_TuneCP5_13TeV-madgraph-pythia/NANOAODSIM/106X_mcRun2_asymptotic_v17-v2/2510000/CC25B3DF-AEE4-DE45-9D37-BF5FD8CA6DE2.root'\n",
      " 'root://eospublic.cern.ch//eos/opendata/cms/mc/RunIISummer20UL16NanoAODv9/BulkGravToWWToWhadWhad_narrow_M-2000_TuneCP5_13TeV-madgraph-pythia/NANOAODSIM/106X_mcRun2_asymptotic_v17-v2/260000/4A95BAE1-F574-3B43-BC5A-11F681217F7E.root'\n",
      " 'root://eospublic.cern.ch//eos/opendata/cms/mc/RunIISummer20UL16NanoAODv9/BulkGravToWWToWhadWhad_narrow_M-2000_TuneCP5_13TeV-madgraph-pythia/NANOAODSIM/106X_mcRun2_asymptotic_v17-v2/260000/61560860-26B0-2C41-BA34-3BA7556592FC.root'\n",
      " 'root://eospublic.cern.ch//eos/opendata/cms/mc/RunIISummer20UL16NanoAODv9/BulkGravToWWToWhadWhad_narrow_M-2000_TuneCP5_13TeV-madgraph-pythia/NANOAODSIM/106X_mcRun2_asymptotic_v17-v2/260000/756B17AD-7C68-0D4F-AA6B-8B07544D8687.root'\n",
      " 'root://eospublic.cern.ch//eos/opendata/cms/mc/RunIISummer20UL16NanoAODv9/BulkGravToWWToWhadWhad_narrow_M-2000_TuneCP5_13TeV-madgraph-pythia/NANOAODSIM/106X_mcRun2_asymptotic_v17-v2/260000/BE6324C8-33EC-0649-9192-44B4B9D5B051.root'\n",
      " 'root://eospublic.cern.ch//eos/opendata/cms/mc/RunIISummer20UL16NanoAODv9/BulkGravToWWToWhadWhad_narrow_M-2000_TuneCP5_13TeV-madgraph-pythia/NANOAODSIM/106X_mcRun2_asymptotic_v17-v2/260000/D54B7722-4D6C-0A4B-8EB5-61788AAE58B2.root'\n",
      " 'root://eospublic.cern.ch//eos/opendata/cms/mc/RunIISummer20UL16NanoAODv9/BulkGravToWWToWhadWhad_narrow_M-2000_TuneCP5_13TeV-madgraph-pythia/NANOAODSIM/106X_mcRun2_asymptotic_v17-v2/260000/D6A350B7-6266-CA40-B82E-0665F98F1BC4.root'\n",
      " 'root://eospublic.cern.ch//eos/opendata/cms/mc/RunIISummer20UL16NanoAODv9/BulkGravToWWToWhadWhad_narrow_M-2000_TuneCP5_13TeV-madgraph-pythia/NANOAODSIM/106X_mcRun2_asymptotic_v17-v2/260000/E0636F7E-88E0-4048-8D70-C62BB9C471C9.root'\n",
      " 'root://eospublic.cern.ch//eos/opendata/cms/mc/RunIISummer20UL16NanoAODv9/BulkGravToWWToWhadWhad_narrow_M-2000_TuneCP5_13TeV-madgraph-pythia/NANOAODSIM/106X_mcRun2_asymptotic_v17-v2/260000/FA205E94-4F2A-734B-8D1D-6CC591343E94.root'\n",
      " 'root://eospublic.cern.ch//eos/opendata/cms/mc/RunIISummer20UL16NanoAODv9/BulkGravToWWToWhadWhad_narrow_M-2000_TuneCP5_13TeV-madgraph-pythia/NANOAODSIM/106X_mcRun2_asymptotic_v17-v2/260000/FBDD80E2-FF50-5440-94C3-E390FA7512A6.root'\n",
      " 'root://eospublic.cern.ch//eos/opendata/cms/mc/RunIISummer20UL16NanoAODv9/BulkGravToWWToWhadWhad_narrow_M-2000_TuneCP5_13TeV-madgraph-pythia/NANOAODSIM/106X_mcRun2_asymptotic_v17-v2/270000/0DB124C6-ECD1-D445-8716-26A00E9C42DD.root'\n",
      " 'root://eospublic.cern.ch//eos/opendata/cms/mc/RunIISummer20UL16NanoAODv9/BulkGravToWWToWhadWhad_narrow_M-2000_TuneCP5_13TeV-madgraph-pythia/NANOAODSIM/106X_mcRun2_asymptotic_v17-v2/270000/32B3D9D9-CC49-8544-AF7D-623D08210392.root'\n",
      " 'root://eospublic.cern.ch//eos/opendata/cms/mc/RunIISummer20UL16NanoAODv9/BulkGravToWWToWhadWhad_narrow_M-2000_TuneCP5_13TeV-madgraph-pythia/NANOAODSIM/106X_mcRun2_asymptotic_v17-v2/270000/3F5F72D7-17D7-AB44-A161-1E223F875B4B.root'\n",
      " 'root://eospublic.cern.ch//eos/opendata/cms/mc/RunIISummer20UL16NanoAODv9/BulkGravToWWToWhadWhad_narrow_M-2000_TuneCP5_13TeV-madgraph-pythia/NANOAODSIM/106X_mcRun2_asymptotic_v17-v2/270000/6181F814-946B-5B43-BAA5-AC17A57ADC43.root'\n",
      " 'root://eospublic.cern.ch//eos/opendata/cms/mc/RunIISummer20UL16NanoAODv9/BulkGravToWWToWhadWhad_narrow_M-2000_TuneCP5_13TeV-madgraph-pythia/NANOAODSIM/106X_mcRun2_asymptotic_v17-v2/270000/90F57721-9140-724D-914D-B9A9D836A880.root'\n",
      " 'root://eospublic.cern.ch//eos/opendata/cms/mc/RunIISummer20UL16NanoAODv9/BulkGravToWWToWhadWhad_narrow_M-2000_TuneCP5_13TeV-madgraph-pythia/NANOAODSIM/106X_mcRun2_asymptotic_v17-v2/270000/D16206A6-8407-A749-9717-4ADF68117615.root']\n"
     ]
    }
   ],
   "source": [
    "import subprocess\n",
    "import numpy as np\n",
    "\n",
    "command = [\"cernopendata-client\", \"get-file-locations\", \"--recid\", \"63168\", \"--protocol\", \"xrootd\"]\n",
    "result = subprocess.run(command, capture_output=True, text=True)\n",
    "filenames = result.stdout.splitlines()\n",
    "filenames_bkg = np.array(filenames)\n",
    "\n",
    "command = [\"cernopendata-client\", \"get-file-locations\", \"--recid\", \"33703\", \"--protocol\", \"xrootd\"]\n",
    "result = subprocess.run(command, capture_output=True, text=True)\n",
    "filenames = result.stdout.splitlines()\n",
    "filenames_sig = np.array(filenames)\n",
    "\n",
    "# Print the NumPy array\n",
    "print(filenames_bkg)\n",
    "print(filenames_sig)"
   ]
  },
  {
   "cell_type": "code",
   "execution_count": 2,
   "id": "a142b510-d9b9-4bbb-9a13-3f07a178e49f",
   "metadata": {
    "scrolled": true,
    "tags": []
   },
   "outputs": [],
   "source": [
    "import uproot\n",
    "import matplotlib.pylab as plt\n",
    "import awkward as ak\n",
    "import numpy as np\n",
    "from glob import glob\n",
    "\n",
    "treename = \"Events\"\n",
    "branch_dict = {\n",
    "                \"Muon\": [\"pt\", \"eta\", \"phi\"],\n",
    "                \"Electron\": [\"pt\", \"eta\", \"phi\"],\n",
    "                \"FatJet\": [\"pt\", \"eta\", \"phi\", \"lsf3\", \"msoftdrop\", \"nConstituents\"],\n",
    "                # \"MET\": [\"pt\", \"phi\"]\n",
    "            }\n",
    "\n",
    "# make list of branches to read from the dictionary above\n",
    "branch_names = []\n",
    "for obj, var in branch_dict.items(): \n",
    "    branch_names += [obj + \"_\" + v for v in var]\n",
    "\n",
    "infiles_sig = filenames_sig[0:5] # Lets use all the signal files\n",
    "\n",
    "data_sig = uproot.concatenate({fname:\"Events\" for fname in infiles_sig}, \n",
    "                              branch_names, \n",
    "                              how = \"zip\",\n",
    "                              library = \"ak\",\n",
    "                              timeout=90,\n",
    "                             )\n",
    "\n",
    "# infiles_bkg = [\"root://eospublic.cern.ch//eos/opendata/cms/mc/RunIISummer20UL16NanoAODv9/QCD_Pt-15to7000_TuneCP5_Flat2018_13TeV_pythia8/NANOAODSIM/106X_mcRun2_asymptotic_v17-v1/130000/2EDCC683-1B4B-614B-BEB7-D80BBC20AD8E.root\",\"root://eospublic.cern.ch//eos/opendata/cms/mc/RunIISummer20UL16NanoAODv9/QCD_Pt-15to7000_TuneCP5_Flat2018_13TeV_pythia8/NANOAODSIM/106X_mcRun2_asymptotic_v17-v1/270000/19E8D842-3175-1449-AF6C-FD9C69D12724.root\",\"root://eospublic.cern.ch//eos/opendata/cms/mc/RunIISummer20UL16NanoAODv9/QCD_Pt-15to7000_TuneCP5_Flat2018_13TeV_pythia8/NANOAODSIM/106X_mcRun2_asymptotic_v17-v1/270000/3957434B-7E09-3B4C-8329-FD44D82C7DB7.root\",\"root://eospublic.cern.ch//eos/opendata/cms/mc/RunIISummer20UL16NanoAODv9/QCD_Pt-15to7000_TuneCP5_Flat2018_13TeV_pythia8/NANOAODSIM/106X_mcRun2_asymptotic_v17-v1/270000/397D1673-167A-CF46-9E79-D7069D9AC359.root\"]\n",
    "infiles_bkg = filenames_bkg[4:8] #Let's use only 4 of the background files, one of the first files seems to not be accessible with xrootd so I take entry 4-8\n",
    "data_bkg = uproot.concatenate({fname:\"Events\" for fname in infiles_bkg}, \n",
    "                              branch_names, \n",
    "                              how = \"zip\",\n",
    "                              library = \"ak\",\n",
    "                              timeout=90,\n",
    "                             )\n",
    "\n",
    "\n",
    "# # Here is an example of how you can open a single file rith awkward and regex for the branch expression :\n",
    "\n",
    "# file_bkg = uproot.open(infiles_bkg[0])\n",
    "# data_bkg = file_bkg[\"Events\"].arrays(\n",
    "#     filter_name = \"/(Muon|Electron|FatJet|MET)_(pt|eta|phi|sumEt)/\", \n",
    "#     how = \"zip\"\n",
    "# )"
   ]
  },
  {
   "cell_type": "code",
   "execution_count": 3,
   "id": "19b22630-840b-46ce-bc10-ae14bf74b0bf",
   "metadata": {},
   "outputs": [],
   "source": [
    "def getPadNParr(events, obj, n_pad, fields, cuts = None, name = None, pad_val = 0):\n",
    "    '''\n",
    "    This function filter objects and pads them to a certain length with a given value\n",
    "    '''\n",
    "    \n",
    "    objects = events[obj]\n",
    "    \n",
    "    if not name: name = obj\n",
    "    \n",
    "    pad_arrs = []\n",
    "    var_names = []\n",
    "        \n",
    "    # padding with nones\n",
    "    pad_arr = ak.pad_none(objects, n_pad, clip=True)\n",
    "    \n",
    "    # combining to numpy\n",
    "    for i in range(n_pad):\n",
    "\n",
    "        for var in fields:\n",
    "            pad_arrs += [ak.to_numpy( ak.fill_none(pad_arr[var][:,i], pad_val) )]\n",
    "            var_names.append( \"{}_{}_{}\".format(name, i, var) )\n",
    "            \n",
    "    return np.stack(pad_arrs), var_names\n",
    "\n",
    "def formatData(data, objects, verbosity = 0):\n",
    "    '''\n",
    "    This function concatenates the padded arrays for different objects.\n",
    "    It is controlled via a dictionary as defined above\n",
    "    '''\n",
    "    \n",
    "    # this will be filled by all required objects\n",
    "    dataList = [] \n",
    "    varList = []\n",
    "    \n",
    "    for obj in objects: \n",
    "        print(obj)\n",
    "        dat, names = getPadNParr(data, obj[\"key\"], obj[\"n_obj\"], obj[\"fields\"], obj[\"cuts\"] if \"cuts\" in obj else None, obj[\"name\"] )\n",
    "        dataList.append(dat)\n",
    "        varList += names\n",
    "        \n",
    "    if verbosity > 0:\n",
    "        print(\"The input variables are the following:\")\n",
    "        print(varList)\n",
    "                \n",
    "    # combining and returning (and transforming back so events are along the first axis...)\n",
    "    return np.concatenate(dataList, axis = 0).T, varList"
   ]
  },
  {
   "cell_type": "code",
   "execution_count": 4,
   "id": "fcd14fc2-96f1-4619-943c-403173e28fbf",
   "metadata": {},
   "outputs": [
    {
     "name": "stdout",
     "output_type": "stream",
     "text": [
      "{'name': 'FatJet', 'key': 'FatJet', 'fields': ['pt', 'eta', 'phi', 'lsf3', 'msoftdrop', 'nConstituents'], 'n_obj': 6}\n",
      "{'name': 'Electron', 'key': 'Electron', 'fields': ['pt', 'eta', 'phi'], 'n_obj': 4}\n",
      "{'name': 'Muon', 'key': 'Muon', 'fields': ['pt', 'eta', 'phi'], 'n_obj': 4}\n",
      "The input variables are the following:\n",
      "['FatJet_0_pt', 'FatJet_0_eta', 'FatJet_0_phi', 'FatJet_0_lsf3', 'FatJet_0_msoftdrop', 'FatJet_0_nConstituents', 'FatJet_1_pt', 'FatJet_1_eta', 'FatJet_1_phi', 'FatJet_1_lsf3', 'FatJet_1_msoftdrop', 'FatJet_1_nConstituents', 'FatJet_2_pt', 'FatJet_2_eta', 'FatJet_2_phi', 'FatJet_2_lsf3', 'FatJet_2_msoftdrop', 'FatJet_2_nConstituents', 'FatJet_3_pt', 'FatJet_3_eta', 'FatJet_3_phi', 'FatJet_3_lsf3', 'FatJet_3_msoftdrop', 'FatJet_3_nConstituents', 'FatJet_4_pt', 'FatJet_4_eta', 'FatJet_4_phi', 'FatJet_4_lsf3', 'FatJet_4_msoftdrop', 'FatJet_4_nConstituents', 'FatJet_5_pt', 'FatJet_5_eta', 'FatJet_5_phi', 'FatJet_5_lsf3', 'FatJet_5_msoftdrop', 'FatJet_5_nConstituents', 'Electron_0_pt', 'Electron_0_eta', 'Electron_0_phi', 'Electron_1_pt', 'Electron_1_eta', 'Electron_1_phi', 'Electron_2_pt', 'Electron_2_eta', 'Electron_2_phi', 'Electron_3_pt', 'Electron_3_eta', 'Electron_3_phi', 'Muon_0_pt', 'Muon_0_eta', 'Muon_0_phi', 'Muon_1_pt', 'Muon_1_eta', 'Muon_1_phi', 'Muon_2_pt', 'Muon_2_eta', 'Muon_2_phi', 'Muon_3_pt', 'Muon_3_eta', 'Muon_3_phi']\n",
      "{'name': 'FatJet', 'key': 'FatJet', 'fields': ['pt', 'eta', 'phi', 'lsf3', 'msoftdrop', 'nConstituents'], 'n_obj': 6}\n",
      "{'name': 'Electron', 'key': 'Electron', 'fields': ['pt', 'eta', 'phi'], 'n_obj': 4}\n",
      "{'name': 'Muon', 'key': 'Muon', 'fields': ['pt', 'eta', 'phi'], 'n_obj': 4}\n"
     ]
    }
   ],
   "source": [
    " objects = [\n",
    "    # {\"name\" : \"MET\", \"key\" : \"MET\", \"fields\" : [\"pt\", \"phi\"], \"n_obj\" : 1 },\n",
    "    {\"name\" : \"FatJet\", \"key\" : \"FatJet\", \"fields\" : [\"pt\", \"eta\", \"phi\", \"lsf3\", \"msoftdrop\", \"nConstituents\"], \"n_obj\" : 6},\n",
    "    {\"name\" : \"Electron\", \"key\" : \"Electron\", \"fields\" : [\"pt\", \"eta\", \"phi\"], \"n_obj\" : 4},\n",
    "    {\"name\" : \"Muon\", \"key\" : \"Muon\", \"fields\" : [\"pt\", \"eta\", \"phi\"], \"n_obj\" : 4}\n",
    "]\n",
    "    \n",
    "x_sig, var_names = formatData(data_sig, objects, verbosity = 99) \n",
    "x_bkg, var_names = formatData(data_bkg, objects, verbosity = 0) "
   ]
  },
  {
   "cell_type": "code",
   "execution_count": 5,
   "id": "12da6b70-b23b-479c-a391-a1d5660bed55",
   "metadata": {},
   "outputs": [
    {
     "name": "stdout",
     "output_type": "stream",
     "text": [
      "Training bkg data shape =  (1800000, 60)\n",
      "Training sig data shape =  (53600, 60)\n"
     ]
    }
   ],
   "source": [
    "import h5py\n",
    "import numpy as np\n",
    "from sklearn.model_selection import train_test_split\n",
    "from sklearn.preprocessing import StandardScaler\n",
    "\n",
    "\n",
    "scaler = StandardScaler()\n",
    "_ = scaler.fit(x_bkg)\n",
    "x_bkg_scaled = scaler.transform(x_bkg)\n",
    "x_sig_scaled = scaler.transform(x_sig)\n",
    "    \n",
    "        \n",
    "# define training, test and validation datasets\n",
    "X_train_bkg, X_test_bkg = train_test_split(x_bkg_scaled, test_size=0.2, shuffle=True)\n",
    "\n",
    "X_train_sig, X_test_sig = train_test_split(x_sig_scaled, test_size=0.2, shuffle=True)\n",
    "\n",
    "\n",
    "print(\"Training bkg data shape = \",X_train_bkg.shape)    \n",
    "with h5py.File('bkg_dataset_classifier.h5', 'w') as h5f:\n",
    "    h5f.create_dataset('X_train', data = X_train_bkg)\n",
    "    h5f.create_dataset('X_test', data = X_test_bkg)\n",
    "\n",
    "print(\"Training sig data shape = \",X_train_sig.shape)    \n",
    "with h5py.File('signal_dataset_classifier.h5', 'w') as h5f2:\n",
    "    h5f2.create_dataset('X_train', data = X_train_sig)\n",
    "    h5f2.create_dataset('X_test', data = X_test_sig)       \n"
   ]
  },
  {
   "cell_type": "code",
   "execution_count": 1,
   "id": "038e4693-f7dd-4a4b-851c-243b47aecfef",
   "metadata": {},
   "outputs": [
    {
     "ename": "NameError",
     "evalue": "name 'np' is not defined",
     "output_type": "error",
     "traceback": [
      "\u001b[0;31m---------------------------------------------------------------------------\u001b[0m",
      "\u001b[0;31mNameError\u001b[0m                                 Traceback (most recent call last)",
      "Input \u001b[0;32mIn [1]\u001b[0m, in \u001b[0;36m<cell line: 2>\u001b[0;34m()\u001b[0m\n\u001b[1;32m      1\u001b[0m \u001b[38;5;66;03m# construct mixed s+b training and test set\u001b[39;00m\n\u001b[0;32m----> 2\u001b[0m X_train \u001b[38;5;241m=\u001b[39m \u001b[43mnp\u001b[49m\u001b[38;5;241m.\u001b[39mconcatenate((X_train_bkg, X_train_sig), axis\u001b[38;5;241m=\u001b[39m\u001b[38;5;241m0\u001b[39m)\n\u001b[1;32m      3\u001b[0m X_test \u001b[38;5;241m=\u001b[39m np\u001b[38;5;241m.\u001b[39mconcatenate((X_test_bkg, X_test_sig), axis\u001b[38;5;241m=\u001b[39m\u001b[38;5;241m0\u001b[39m)\n\u001b[1;32m      5\u001b[0m Y_train \u001b[38;5;241m=\u001b[39m np\u001b[38;5;241m.\u001b[39mconcatenate(\n\u001b[1;32m      6\u001b[0m     (np\u001b[38;5;241m.\u001b[39mzeros(X_train_bkg\u001b[38;5;241m.\u001b[39mshape[\u001b[38;5;241m0\u001b[39m]), np\u001b[38;5;241m.\u001b[39mones(X_train_sig\u001b[38;5;241m.\u001b[39mshape[\u001b[38;5;241m0\u001b[39m])),\n\u001b[1;32m      7\u001b[0m     axis\u001b[38;5;241m=\u001b[39m\u001b[38;5;241m0\u001b[39m\n\u001b[1;32m      8\u001b[0m )\n",
      "\u001b[0;31mNameError\u001b[0m: name 'np' is not defined"
     ]
    }
   ],
   "source": [
    "# construct mixed s+b training and test set\n",
    "X_train = np.concatenate((X_train_bkg, X_train_sig), axis=0)\n",
    "X_test = np.concatenate((X_test_bkg, X_test_sig), axis=0)\n",
    "\n",
    "Y_train = np.concatenate(\n",
    "    (np.zeros(X_train_bkg.shape[0]), np.ones(X_train_sig.shape[0])),\n",
    "    axis=0\n",
    ")\n",
    "Y_test = np.concatenate(\n",
    "    (np.zeros(X_test_bkg.shape[0]), np.ones(X_test_sig.shape[0])),\n",
    "    axis=0\n",
    ")"
   ]
  },
  {
   "cell_type": "code",
   "execution_count": null,
   "id": "37b05320-54ce-4588-bd5b-05ea50c8f253",
   "metadata": {},
   "outputs": [],
   "source": []
  }
 ],
 "metadata": {
  "kernelspec": {
   "display_name": "Python 3 (ipykernel)",
   "language": "python",
   "name": "python3"
  },
  "language_info": {
   "codemirror_mode": {
    "name": "ipython",
    "version": 3
   },
   "file_extension": ".py",
   "mimetype": "text/x-python",
   "name": "python",
   "nbconvert_exporter": "python",
   "pygments_lexer": "ipython3",
   "version": "3.10.5"
  }
 },
 "nbformat": 4,
 "nbformat_minor": 5
}
